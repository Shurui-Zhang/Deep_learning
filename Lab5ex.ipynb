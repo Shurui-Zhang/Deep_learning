{
  "nbformat": 4,
  "nbformat_minor": 0,
  "metadata": {
    "accelerator": "GPU",
    "colab": {
      "name": "Lab5ex.ipynb",
      "provenance": [],
      "collapsed_sections": [],
      "include_colab_link": true
    },
    "kernelspec": {
      "display_name": "Python 3",
      "name": "python3"
    },
    "language_info": {
      "name": "python"
    },
    "widgets": {
      "application/vnd.jupyter.widget-state+json": {
        "f3590e6af1bb4bc7a072aec151eb35cc": {
          "model_module": "@jupyter-widgets/controls",
          "model_name": "HBoxModel",
          "state": {
            "_view_name": "HBoxView",
            "_dom_classes": [],
            "_model_name": "HBoxModel",
            "_view_module": "@jupyter-widgets/controls",
            "_model_module_version": "1.5.0",
            "_view_count": null,
            "_view_module_version": "1.5.0",
            "box_style": "",
            "layout": "IPY_MODEL_9432865c14a44ec5a894ce4dadf4da73",
            "_model_module": "@jupyter-widgets/controls",
            "children": [
              "IPY_MODEL_2b938e5bea484fe8ab8e2611d3248112",
              "IPY_MODEL_cbfb22551227433a9cb32ef66431885f"
            ]
          }
        },
        "9432865c14a44ec5a894ce4dadf4da73": {
          "model_module": "@jupyter-widgets/base",
          "model_name": "LayoutModel",
          "state": {
            "_view_name": "LayoutView",
            "grid_template_rows": null,
            "right": null,
            "justify_content": null,
            "_view_module": "@jupyter-widgets/base",
            "overflow": null,
            "_model_module_version": "1.2.0",
            "_view_count": null,
            "flex_flow": null,
            "width": null,
            "min_width": null,
            "border": null,
            "align_items": null,
            "bottom": null,
            "_model_module": "@jupyter-widgets/base",
            "top": null,
            "grid_column": null,
            "overflow_y": null,
            "overflow_x": null,
            "grid_auto_flow": null,
            "grid_area": null,
            "grid_template_columns": null,
            "flex": null,
            "_model_name": "LayoutModel",
            "justify_items": null,
            "grid_row": null,
            "max_height": null,
            "align_content": null,
            "visibility": null,
            "align_self": null,
            "height": null,
            "min_height": null,
            "padding": null,
            "grid_auto_rows": null,
            "grid_gap": null,
            "max_width": null,
            "order": null,
            "_view_module_version": "1.2.0",
            "grid_template_areas": null,
            "object_position": null,
            "object_fit": null,
            "grid_auto_columns": null,
            "margin": null,
            "display": null,
            "left": null
          }
        },
        "2b938e5bea484fe8ab8e2611d3248112": {
          "model_module": "@jupyter-widgets/controls",
          "model_name": "FloatProgressModel",
          "state": {
            "_view_name": "ProgressView",
            "style": "IPY_MODEL_781649e9631d431f9557ef052d0fd947",
            "_dom_classes": [],
            "description": "0/10(t): 100%",
            "_model_name": "FloatProgressModel",
            "bar_style": "success",
            "max": 40,
            "_view_module": "@jupyter-widgets/controls",
            "_model_module_version": "1.5.0",
            "value": 40,
            "_view_count": null,
            "_view_module_version": "1.5.0",
            "orientation": "horizontal",
            "min": 0,
            "description_tooltip": null,
            "_model_module": "@jupyter-widgets/controls",
            "layout": "IPY_MODEL_2df02d564d184e11bf5c8f0196f40658"
          }
        },
        "cbfb22551227433a9cb32ef66431885f": {
          "model_module": "@jupyter-widgets/controls",
          "model_name": "HTMLModel",
          "state": {
            "_view_name": "HTMLView",
            "style": "IPY_MODEL_c1aac6506cd742a8a779e729a8387b0d",
            "_dom_classes": [],
            "description": "",
            "_model_name": "HTMLModel",
            "placeholder": "​",
            "_view_module": "@jupyter-widgets/controls",
            "_model_module_version": "1.5.0",
            "value": " 40/40 [00:19&lt;00:00,  2.02it/s, acc=0.6204, loss=5.0566, running_acc=0.6172, running_loss=5.2067]",
            "_view_count": null,
            "_view_module_version": "1.5.0",
            "description_tooltip": null,
            "_model_module": "@jupyter-widgets/controls",
            "layout": "IPY_MODEL_274fe2c413684e9c94edf8d27d356ea9"
          }
        },
        "781649e9631d431f9557ef052d0fd947": {
          "model_module": "@jupyter-widgets/controls",
          "model_name": "ProgressStyleModel",
          "state": {
            "_view_name": "StyleView",
            "_model_name": "ProgressStyleModel",
            "description_width": "initial",
            "_view_module": "@jupyter-widgets/base",
            "_model_module_version": "1.5.0",
            "_view_count": null,
            "_view_module_version": "1.2.0",
            "bar_color": null,
            "_model_module": "@jupyter-widgets/controls"
          }
        },
        "2df02d564d184e11bf5c8f0196f40658": {
          "model_module": "@jupyter-widgets/base",
          "model_name": "LayoutModel",
          "state": {
            "_view_name": "LayoutView",
            "grid_template_rows": null,
            "right": null,
            "justify_content": null,
            "_view_module": "@jupyter-widgets/base",
            "overflow": null,
            "_model_module_version": "1.2.0",
            "_view_count": null,
            "flex_flow": null,
            "width": null,
            "min_width": null,
            "border": null,
            "align_items": null,
            "bottom": null,
            "_model_module": "@jupyter-widgets/base",
            "top": null,
            "grid_column": null,
            "overflow_y": null,
            "overflow_x": null,
            "grid_auto_flow": null,
            "grid_area": null,
            "grid_template_columns": null,
            "flex": null,
            "_model_name": "LayoutModel",
            "justify_items": null,
            "grid_row": null,
            "max_height": null,
            "align_content": null,
            "visibility": null,
            "align_self": null,
            "height": null,
            "min_height": null,
            "padding": null,
            "grid_auto_rows": null,
            "grid_gap": null,
            "max_width": null,
            "order": null,
            "_view_module_version": "1.2.0",
            "grid_template_areas": null,
            "object_position": null,
            "object_fit": null,
            "grid_auto_columns": null,
            "margin": null,
            "display": null,
            "left": null
          }
        },
        "c1aac6506cd742a8a779e729a8387b0d": {
          "model_module": "@jupyter-widgets/controls",
          "model_name": "DescriptionStyleModel",
          "state": {
            "_view_name": "StyleView",
            "_model_name": "DescriptionStyleModel",
            "description_width": "",
            "_view_module": "@jupyter-widgets/base",
            "_model_module_version": "1.5.0",
            "_view_count": null,
            "_view_module_version": "1.2.0",
            "_model_module": "@jupyter-widgets/controls"
          }
        },
        "274fe2c413684e9c94edf8d27d356ea9": {
          "model_module": "@jupyter-widgets/base",
          "model_name": "LayoutModel",
          "state": {
            "_view_name": "LayoutView",
            "grid_template_rows": null,
            "right": null,
            "justify_content": null,
            "_view_module": "@jupyter-widgets/base",
            "overflow": null,
            "_model_module_version": "1.2.0",
            "_view_count": null,
            "flex_flow": null,
            "width": null,
            "min_width": null,
            "border": null,
            "align_items": null,
            "bottom": null,
            "_model_module": "@jupyter-widgets/base",
            "top": null,
            "grid_column": null,
            "overflow_y": null,
            "overflow_x": null,
            "grid_auto_flow": null,
            "grid_area": null,
            "grid_template_columns": null,
            "flex": null,
            "_model_name": "LayoutModel",
            "justify_items": null,
            "grid_row": null,
            "max_height": null,
            "align_content": null,
            "visibility": null,
            "align_self": null,
            "height": null,
            "min_height": null,
            "padding": null,
            "grid_auto_rows": null,
            "grid_gap": null,
            "max_width": null,
            "order": null,
            "_view_module_version": "1.2.0",
            "grid_template_areas": null,
            "object_position": null,
            "object_fit": null,
            "grid_auto_columns": null,
            "margin": null,
            "display": null,
            "left": null
          }
        },
        "1cfac22efc464e7a8dd9381cbabc053d": {
          "model_module": "@jupyter-widgets/controls",
          "model_name": "HBoxModel",
          "state": {
            "_view_name": "HBoxView",
            "_dom_classes": [],
            "_model_name": "HBoxModel",
            "_view_module": "@jupyter-widgets/controls",
            "_model_module_version": "1.5.0",
            "_view_count": null,
            "_view_module_version": "1.5.0",
            "box_style": "",
            "layout": "IPY_MODEL_ff87d4c0b81d4d9d858080568cc800a6",
            "_model_module": "@jupyter-widgets/controls",
            "children": [
              "IPY_MODEL_a3ac163feb1e4965a64d83e7f262569e",
              "IPY_MODEL_d83aed6d7541495b8a2a67d18fde4522"
            ]
          }
        },
        "ff87d4c0b81d4d9d858080568cc800a6": {
          "model_module": "@jupyter-widgets/base",
          "model_name": "LayoutModel",
          "state": {
            "_view_name": "LayoutView",
            "grid_template_rows": null,
            "right": null,
            "justify_content": null,
            "_view_module": "@jupyter-widgets/base",
            "overflow": null,
            "_model_module_version": "1.2.0",
            "_view_count": null,
            "flex_flow": null,
            "width": null,
            "min_width": null,
            "border": null,
            "align_items": null,
            "bottom": null,
            "_model_module": "@jupyter-widgets/base",
            "top": null,
            "grid_column": null,
            "overflow_y": null,
            "overflow_x": null,
            "grid_auto_flow": null,
            "grid_area": null,
            "grid_template_columns": null,
            "flex": null,
            "_model_name": "LayoutModel",
            "justify_items": null,
            "grid_row": null,
            "max_height": null,
            "align_content": null,
            "visibility": null,
            "align_self": null,
            "height": null,
            "min_height": null,
            "padding": null,
            "grid_auto_rows": null,
            "grid_gap": null,
            "max_width": null,
            "order": null,
            "_view_module_version": "1.2.0",
            "grid_template_areas": null,
            "object_position": null,
            "object_fit": null,
            "grid_auto_columns": null,
            "margin": null,
            "display": null,
            "left": null
          }
        },
        "a3ac163feb1e4965a64d83e7f262569e": {
          "model_module": "@jupyter-widgets/controls",
          "model_name": "FloatProgressModel",
          "state": {
            "_view_name": "ProgressView",
            "style": "IPY_MODEL_6ed1f533c5fc4276b570c2528643f111",
            "_dom_classes": [],
            "description": "1/10(t):   5%",
            "_model_name": "FloatProgressModel",
            "bar_style": "",
            "max": 40,
            "_view_module": "@jupyter-widgets/controls",
            "_model_module_version": "1.5.0",
            "value": 2,
            "_view_count": null,
            "_view_module_version": "1.5.0",
            "orientation": "horizontal",
            "min": 0,
            "description_tooltip": null,
            "_model_module": "@jupyter-widgets/controls",
            "layout": "IPY_MODEL_8d7855febb6b4b7986ae7f62c9aa3c50"
          }
        },
        "d83aed6d7541495b8a2a67d18fde4522": {
          "model_module": "@jupyter-widgets/controls",
          "model_name": "HTMLModel",
          "state": {
            "_view_name": "HTMLView",
            "style": "IPY_MODEL_4ca9f7f8a89f4718963b6700244b33d3",
            "_dom_classes": [],
            "description": "",
            "_model_name": "HTMLModel",
            "placeholder": "​",
            "_view_module": "@jupyter-widgets/controls",
            "_model_module_version": "1.5.0",
            "value": " 2/40 [00:01&lt;00:20,  1.89it/s, running_acc=0.6212, running_loss=5.0395]",
            "_view_count": null,
            "_view_module_version": "1.5.0",
            "description_tooltip": null,
            "_model_module": "@jupyter-widgets/controls",
            "layout": "IPY_MODEL_1bfc8ea532ee4302ae623ea9a09dbfa4"
          }
        },
        "6ed1f533c5fc4276b570c2528643f111": {
          "model_module": "@jupyter-widgets/controls",
          "model_name": "ProgressStyleModel",
          "state": {
            "_view_name": "StyleView",
            "_model_name": "ProgressStyleModel",
            "description_width": "initial",
            "_view_module": "@jupyter-widgets/base",
            "_model_module_version": "1.5.0",
            "_view_count": null,
            "_view_module_version": "1.2.0",
            "bar_color": null,
            "_model_module": "@jupyter-widgets/controls"
          }
        },
        "8d7855febb6b4b7986ae7f62c9aa3c50": {
          "model_module": "@jupyter-widgets/base",
          "model_name": "LayoutModel",
          "state": {
            "_view_name": "LayoutView",
            "grid_template_rows": null,
            "right": null,
            "justify_content": null,
            "_view_module": "@jupyter-widgets/base",
            "overflow": null,
            "_model_module_version": "1.2.0",
            "_view_count": null,
            "flex_flow": null,
            "width": null,
            "min_width": null,
            "border": null,
            "align_items": null,
            "bottom": null,
            "_model_module": "@jupyter-widgets/base",
            "top": null,
            "grid_column": null,
            "overflow_y": null,
            "overflow_x": null,
            "grid_auto_flow": null,
            "grid_area": null,
            "grid_template_columns": null,
            "flex": null,
            "_model_name": "LayoutModel",
            "justify_items": null,
            "grid_row": null,
            "max_height": null,
            "align_content": null,
            "visibility": null,
            "align_self": null,
            "height": null,
            "min_height": null,
            "padding": null,
            "grid_auto_rows": null,
            "grid_gap": null,
            "max_width": null,
            "order": null,
            "_view_module_version": "1.2.0",
            "grid_template_areas": null,
            "object_position": null,
            "object_fit": null,
            "grid_auto_columns": null,
            "margin": null,
            "display": null,
            "left": null
          }
        },
        "4ca9f7f8a89f4718963b6700244b33d3": {
          "model_module": "@jupyter-widgets/controls",
          "model_name": "DescriptionStyleModel",
          "state": {
            "_view_name": "StyleView",
            "_model_name": "DescriptionStyleModel",
            "description_width": "",
            "_view_module": "@jupyter-widgets/base",
            "_model_module_version": "1.5.0",
            "_view_count": null,
            "_view_module_version": "1.2.0",
            "_model_module": "@jupyter-widgets/controls"
          }
        },
        "1bfc8ea532ee4302ae623ea9a09dbfa4": {
          "model_module": "@jupyter-widgets/base",
          "model_name": "LayoutModel",
          "state": {
            "_view_name": "LayoutView",
            "grid_template_rows": null,
            "right": null,
            "justify_content": null,
            "_view_module": "@jupyter-widgets/base",
            "overflow": null,
            "_model_module_version": "1.2.0",
            "_view_count": null,
            "flex_flow": null,
            "width": null,
            "min_width": null,
            "border": null,
            "align_items": null,
            "bottom": null,
            "_model_module": "@jupyter-widgets/base",
            "top": null,
            "grid_column": null,
            "overflow_y": null,
            "overflow_x": null,
            "grid_auto_flow": null,
            "grid_area": null,
            "grid_template_columns": null,
            "flex": null,
            "_model_name": "LayoutModel",
            "justify_items": null,
            "grid_row": null,
            "max_height": null,
            "align_content": null,
            "visibility": null,
            "align_self": null,
            "height": null,
            "min_height": null,
            "padding": null,
            "grid_auto_rows": null,
            "grid_gap": null,
            "max_width": null,
            "order": null,
            "_view_module_version": "1.2.0",
            "grid_template_areas": null,
            "object_position": null,
            "object_fit": null,
            "grid_auto_columns": null,
            "margin": null,
            "display": null,
            "left": null
          }
        },
        "1e591fe59b6a4f4aae1cd672a3a9d6e8": {
          "model_module": "@jupyter-widgets/controls",
          "model_name": "HBoxModel",
          "state": {
            "_view_name": "HBoxView",
            "_dom_classes": [],
            "_model_name": "HBoxModel",
            "_view_module": "@jupyter-widgets/controls",
            "_model_module_version": "1.5.0",
            "_view_count": null,
            "_view_module_version": "1.5.0",
            "box_style": "",
            "layout": "IPY_MODEL_12a18cb59a304d84a82b5d46226ea4ec",
            "_model_module": "@jupyter-widgets/controls",
            "children": [
              "IPY_MODEL_6ed475cc54a1432cba25b6d83ea0eb36",
              "IPY_MODEL_17a12f88e4124cadae5cfde3a0f4c576"
            ]
          }
        },
        "12a18cb59a304d84a82b5d46226ea4ec": {
          "model_module": "@jupyter-widgets/base",
          "model_name": "LayoutModel",
          "state": {
            "_view_name": "LayoutView",
            "grid_template_rows": null,
            "right": null,
            "justify_content": null,
            "_view_module": "@jupyter-widgets/base",
            "overflow": null,
            "_model_module_version": "1.2.0",
            "_view_count": null,
            "flex_flow": null,
            "width": null,
            "min_width": null,
            "border": null,
            "align_items": null,
            "bottom": null,
            "_model_module": "@jupyter-widgets/base",
            "top": null,
            "grid_column": null,
            "overflow_y": null,
            "overflow_x": null,
            "grid_auto_flow": null,
            "grid_area": null,
            "grid_template_columns": null,
            "flex": null,
            "_model_name": "LayoutModel",
            "justify_items": null,
            "grid_row": null,
            "max_height": null,
            "align_content": null,
            "visibility": null,
            "align_self": null,
            "height": null,
            "min_height": null,
            "padding": null,
            "grid_auto_rows": null,
            "grid_gap": null,
            "max_width": null,
            "order": null,
            "_view_module_version": "1.2.0",
            "grid_template_areas": null,
            "object_position": null,
            "object_fit": null,
            "grid_auto_columns": null,
            "margin": null,
            "display": null,
            "left": null
          }
        },
        "6ed475cc54a1432cba25b6d83ea0eb36": {
          "model_module": "@jupyter-widgets/controls",
          "model_name": "FloatProgressModel",
          "state": {
            "_view_name": "ProgressView",
            "style": "IPY_MODEL_3360f411fe9641a49d475e2b621473ab",
            "_dom_classes": [],
            "description": "0/10(t):  40%",
            "_model_name": "FloatProgressModel",
            "bar_style": "",
            "max": 40,
            "_view_module": "@jupyter-widgets/controls",
            "_model_module_version": "1.5.0",
            "value": 17,
            "_view_count": null,
            "_view_module_version": "1.5.0",
            "orientation": "horizontal",
            "min": 0,
            "description_tooltip": null,
            "_model_module": "@jupyter-widgets/controls",
            "layout": "IPY_MODEL_ac7abfb847fc4baa91c9c0147da4a7a6"
          }
        },
        "17a12f88e4124cadae5cfde3a0f4c576": {
          "model_module": "@jupyter-widgets/controls",
          "model_name": "HTMLModel",
          "state": {
            "_view_name": "HTMLView",
            "style": "IPY_MODEL_8aeb8430cba64543a0659690112bf0bf",
            "_dom_classes": [],
            "description": "",
            "_model_name": "HTMLModel",
            "placeholder": "​",
            "_view_module": "@jupyter-widgets/controls",
            "_model_module_version": "1.5.0",
            "value": " 16/40 [00:12&lt;00:18,  1.27it/s, running_acc=0.3899, running_loss=5.0148]",
            "_view_count": null,
            "_view_module_version": "1.5.0",
            "description_tooltip": null,
            "_model_module": "@jupyter-widgets/controls",
            "layout": "IPY_MODEL_4ed107ab95d340b9a061cb3f6787b672"
          }
        },
        "3360f411fe9641a49d475e2b621473ab": {
          "model_module": "@jupyter-widgets/controls",
          "model_name": "ProgressStyleModel",
          "state": {
            "_view_name": "StyleView",
            "_model_name": "ProgressStyleModel",
            "description_width": "initial",
            "_view_module": "@jupyter-widgets/base",
            "_model_module_version": "1.5.0",
            "_view_count": null,
            "_view_module_version": "1.2.0",
            "bar_color": null,
            "_model_module": "@jupyter-widgets/controls"
          }
        },
        "ac7abfb847fc4baa91c9c0147da4a7a6": {
          "model_module": "@jupyter-widgets/base",
          "model_name": "LayoutModel",
          "state": {
            "_view_name": "LayoutView",
            "grid_template_rows": null,
            "right": null,
            "justify_content": null,
            "_view_module": "@jupyter-widgets/base",
            "overflow": null,
            "_model_module_version": "1.2.0",
            "_view_count": null,
            "flex_flow": null,
            "width": null,
            "min_width": null,
            "border": null,
            "align_items": null,
            "bottom": null,
            "_model_module": "@jupyter-widgets/base",
            "top": null,
            "grid_column": null,
            "overflow_y": null,
            "overflow_x": null,
            "grid_auto_flow": null,
            "grid_area": null,
            "grid_template_columns": null,
            "flex": null,
            "_model_name": "LayoutModel",
            "justify_items": null,
            "grid_row": null,
            "max_height": null,
            "align_content": null,
            "visibility": null,
            "align_self": null,
            "height": null,
            "min_height": null,
            "padding": null,
            "grid_auto_rows": null,
            "grid_gap": null,
            "max_width": null,
            "order": null,
            "_view_module_version": "1.2.0",
            "grid_template_areas": null,
            "object_position": null,
            "object_fit": null,
            "grid_auto_columns": null,
            "margin": null,
            "display": null,
            "left": null
          }
        },
        "8aeb8430cba64543a0659690112bf0bf": {
          "model_module": "@jupyter-widgets/controls",
          "model_name": "DescriptionStyleModel",
          "state": {
            "_view_name": "StyleView",
            "_model_name": "DescriptionStyleModel",
            "description_width": "",
            "_view_module": "@jupyter-widgets/base",
            "_model_module_version": "1.5.0",
            "_view_count": null,
            "_view_module_version": "1.2.0",
            "_model_module": "@jupyter-widgets/controls"
          }
        },
        "4ed107ab95d340b9a061cb3f6787b672": {
          "model_module": "@jupyter-widgets/base",
          "model_name": "LayoutModel",
          "state": {
            "_view_name": "LayoutView",
            "grid_template_rows": null,
            "right": null,
            "justify_content": null,
            "_view_module": "@jupyter-widgets/base",
            "overflow": null,
            "_model_module_version": "1.2.0",
            "_view_count": null,
            "flex_flow": null,
            "width": null,
            "min_width": null,
            "border": null,
            "align_items": null,
            "bottom": null,
            "_model_module": "@jupyter-widgets/base",
            "top": null,
            "grid_column": null,
            "overflow_y": null,
            "overflow_x": null,
            "grid_auto_flow": null,
            "grid_area": null,
            "grid_template_columns": null,
            "flex": null,
            "_model_name": "LayoutModel",
            "justify_items": null,
            "grid_row": null,
            "max_height": null,
            "align_content": null,
            "visibility": null,
            "align_self": null,
            "height": null,
            "min_height": null,
            "padding": null,
            "grid_auto_rows": null,
            "grid_gap": null,
            "max_width": null,
            "order": null,
            "_view_module_version": "1.2.0",
            "grid_template_areas": null,
            "object_position": null,
            "object_fit": null,
            "grid_auto_columns": null,
            "margin": null,
            "display": null,
            "left": null
          }
        }
      }
    }
  },
  "cells": [
    {
      "cell_type": "markdown",
      "metadata": {
        "id": "view-in-github",
        "colab_type": "text"
      },
      "source": [
        "<a href=\"https://colab.research.google.com/github/Shurui-Zhang/Deep_learning/blob/main/Lab5ex.ipynb\" target=\"_parent\"><img src=\"https://colab.research.google.com/assets/colab-badge.svg\" alt=\"Open In Colab\"/></a>"
      ]
    },
    {
      "cell_type": "code",
      "metadata": {
        "id": "AMVVJpe-7TDv"
      },
      "source": [
        "import torch\n",
        "from torchvision import transforms\n",
        "from torch.utils.data import Dataset\n",
        "\n",
        "class MyDataset(Dataset):\n",
        "  def __init__(self, size=5000, dim=40, random_offset=0):\n",
        "        super(MyDataset, self).__init__()\n",
        "        self.size = size\n",
        "        self.dim = dim\n",
        "        self.random_offset = random_offset\n",
        "\n",
        "  def __getitem__(self, index):\n",
        "      if index >= len(self):\n",
        "          raise IndexError(\"{} index out of range\".format(self.__class__.__name__))\n",
        "\n",
        "      rng_state = torch.get_rng_state()\n",
        "      torch.manual_seed(index + self.random_offset)\n",
        "\n",
        "      while True:\n",
        "        img = torch.zeros(self.dim, self.dim)\n",
        "        dx = torch.randint(-10,10,(1,),dtype=torch.float)\n",
        "        dy = torch.randint(-10,10,(1,),dtype=torch.float)\n",
        "        c = torch.randint(-20,20,(1,), dtype=torch.float)\n",
        "\n",
        "        params = torch.cat((dy/dx, c))\n",
        "        xy = torch.randint(0,img.shape[1], (20, 2), dtype=torch.float)\n",
        "        xy[:,1] = xy[:,0] * params[0] + params[1]\n",
        "\n",
        "        xy.round_()\n",
        "        xy = xy[ xy[:,1] > 0 ]\n",
        "        xy = xy[ xy[:,1] < self.dim ]\n",
        "        xy = xy[ xy[:,0] < self.dim ]\n",
        "\n",
        "        for i in range(xy.shape[0]):\n",
        "          x, y = xy[i][0], self.dim - xy[i][1]\n",
        "          img[int(y), int(x)]=1\n",
        "        if img.sum() > 2:\n",
        "          break\n",
        "\n",
        "      torch.set_rng_state(rng_state)\n",
        "      return img.unsqueeze(0), params\n",
        "\n",
        "  def __len__(self):\n",
        "      return self.size\n",
        "\n",
        "train_data = MyDataset()\n",
        "val_data = MyDataset(size=500, random_offset=33333)\n",
        "test_data = MyDataset(size=500, random_offset=99999)"
      ],
      "execution_count": null,
      "outputs": []
    },
    {
      "cell_type": "code",
      "metadata": {
        "id": "BhDlWpc4LHGO"
      },
      "source": [
        "# Execute this code block to install dependencies when running on colab\n",
        "try:\n",
        "    import torch\n",
        "except:\n",
        "    from os.path import exists\n",
        "    from wheel.pep425tags import get_abbr_impl, get_impl_ver, get_abi_tag\n",
        "    platform = '{}{}-{}'.format(get_abbr_impl(), get_impl_ver(), get_abi_tag())\n",
        "    cuda_output = !ldconfig -p|grep cudart.so|sed -e 's/.*\\.\\([0-9]*\\)\\.\\([0-9]*\\)$/cu\\1\\2/'\n",
        "    accelerator = cuda_output[0] if exists('/dev/nvidia0') else 'cpu'\n",
        "\n",
        "    !pip install -q http://download.pytorch.org/whl/{accelerator}/torch-1.0.0-{platform}-linux_x86_64.whl torchvision\n",
        "\n",
        "try: \n",
        "    import torchbearer\n",
        "except:\n",
        "    !pip install torchbearer"
      ],
      "execution_count": null,
      "outputs": []
    },
    {
      "cell_type": "code",
      "metadata": {
        "id": "pJIMF6LASB4n",
        "colab": {
          "base_uri": "https://localhost:8080/"
        },
        "outputId": "e1fd3fb0-d37c-4f5e-8b7f-63644827c238"
      },
      "source": [
        "# automatically reload external modules if they change\n",
        "%load_ext autoreload\n",
        "%autoreload 2\n",
        "\n",
        "import torch\n",
        "import torch.nn.functional as F\n",
        "import torchvision.transforms as transforms\n",
        "import torchbearer\n",
        "from torch import nn\n",
        "from torch import optim\n",
        "from torchbearer import Trial\n",
        "from torch.utils.data import DataLoader"
      ],
      "execution_count": null,
      "outputs": [
        {
          "output_type": "stream",
          "text": [
            "The autoreload extension is already loaded. To reload it, use:\n",
            "  %reload_ext autoreload\n"
          ],
          "name": "stdout"
        }
      ]
    },
    {
      "cell_type": "code",
      "metadata": {
        "colab": {
          "base_uri": "https://localhost:8080/"
        },
        "id": "EOj-z41LT4oe",
        "outputId": "e45cde62-bb39-49f0-9a1e-e6232fee63b0"
      },
      "source": [
        "trainloader = DataLoader(train_data, batch_size=128, shuffle=True)\n",
        "testloader = DataLoader(test_data, batch_size=128, shuffle=True)\n",
        "for data in trainloader:\n",
        "  print(data[0].shape)\n",
        "  print(data[1].shape)\n",
        "  break"
      ],
      "execution_count": null,
      "outputs": [
        {
          "output_type": "stream",
          "text": [
            "torch.Size([128, 1, 40, 40])\n",
            "torch.Size([128, 2])\n"
          ],
          "name": "stdout"
        }
      ]
    },
    {
      "cell_type": "code",
      "metadata": {
        "id": "IAErSUtWSk8M"
      },
      "source": [
        "class SimpleCNN(nn.Module):\n",
        "    def __init__(self):\n",
        "        super(SimpleCNN, self).__init__()\n",
        "        self.conv1 = nn.Conv2d(1, 48, (3, 3), stride=1, padding=1) #concolution2D layer 1为输入通道数，32为输出通道数，32也表示有32个卷积核\n",
        "        self.fc1 = nn.Linear(76800, 128) #对应第5. flatten了tensor所以输入大小为32 * 12**2\n",
        "        self.fc2 = nn.Linear(128, 2)#对应第6\n",
        "            \n",
        "    def forward(self, x):\n",
        "        # 训练数据x为torch.Size([128, 1, 28, 28])，以下所有128都是一个batch中的data个数,1表示1通道\n",
        "        out = self.conv1(x) #out torch.Size([128, 32, 24, 24]) 28*28通过5*5的卷积核卷积后得到24*24 \n",
        "        out = F.relu(out)  \n",
        "        out = out.view(out.shape[0], -1) #torch.Size([128, 4608])    \n",
        "        out = self.fc1(out)#torch.Size([128, 128])        \n",
        "        out = F.relu(out)\n",
        "        out = self.fc2(out) #torch.Size([128, 10])\n",
        "        return out"
      ],
      "execution_count": null,
      "outputs": []
    },
    {
      "cell_type": "code",
      "metadata": {
        "colab": {
          "base_uri": "https://localhost:8080/",
          "height": 98,
          "referenced_widgets": [
            "f3590e6af1bb4bc7a072aec151eb35cc",
            "9432865c14a44ec5a894ce4dadf4da73",
            "2b938e5bea484fe8ab8e2611d3248112",
            "cbfb22551227433a9cb32ef66431885f",
            "781649e9631d431f9557ef052d0fd947",
            "2df02d564d184e11bf5c8f0196f40658",
            "c1aac6506cd742a8a779e729a8387b0d",
            "274fe2c413684e9c94edf8d27d356ea9",
            "1cfac22efc464e7a8dd9381cbabc053d",
            "ff87d4c0b81d4d9d858080568cc800a6",
            "a3ac163feb1e4965a64d83e7f262569e",
            "d83aed6d7541495b8a2a67d18fde4522",
            "6ed1f533c5fc4276b570c2528643f111",
            "8d7855febb6b4b7986ae7f62c9aa3c50",
            "4ca9f7f8a89f4718963b6700244b33d3",
            "1bfc8ea532ee4302ae623ea9a09dbfa4"
          ]
        },
        "id": "PQPSDRCtXGmo",
        "outputId": "ac2306e4-f4e0-47c0-c6e1-e386045427ab"
      },
      "source": [
        "# build the model\n",
        "model = SimpleCNN()\n",
        "\n",
        "# define the loss function and the optimiser\n",
        "#loss_function = nn.MSELoss()\n",
        "#loss_function = nn.L1Loss()#{'test_loss': 3.1808531284332275, 'test_acc': 0.8299999833106995}\n",
        "loss_function = nn.SmoothL1Loss()#{'test_loss': 2.9307379722595215, 'test_acc': 0.8399999737739563}\n",
        "optimiser = optim.Adam(model.parameters())\n",
        "\n",
        "device = \"cuda:0\" if torch.cuda.is_available() else \"cpu\"\n",
        "trial = Trial(model, optimiser, loss_function, metrics=['loss', 'accuracy']).to(device)\n",
        "trial.with_generators(trainloader, test_generator=testloader)\n",
        "trial.run(epochs=100)\n",
        "results = trial.evaluate(data_key=torchbearer.TEST_DATA)\n",
        "print(results)"
      ],
      "execution_count": null,
      "outputs": [
        {
          "output_type": "display_data",
          "data": {
            "application/vnd.jupyter.widget-view+json": {
              "model_id": "f3590e6af1bb4bc7a072aec151eb35cc",
              "version_minor": 0,
              "version_major": 2
            },
            "text/plain": [
              "HBox(children=(FloatProgress(value=0.0, description='0/10(t)', max=40.0, style=ProgressStyle(description_width…"
            ]
          },
          "metadata": {
            "tags": []
          }
        },
        {
          "output_type": "stream",
          "text": [
            "\n"
          ],
          "name": "stdout"
        },
        {
          "output_type": "display_data",
          "data": {
            "application/vnd.jupyter.widget-view+json": {
              "model_id": "1cfac22efc464e7a8dd9381cbabc053d",
              "version_minor": 0,
              "version_major": 2
            },
            "text/plain": [
              "HBox(children=(FloatProgress(value=0.0, description='1/10(t)', max=40.0, style=ProgressStyle(description_width…"
            ]
          },
          "metadata": {
            "tags": []
          }
        }
      ]
    },
    {
      "cell_type": "code",
      "metadata": {
        "id": "ijL3aqZ8XhiE"
      },
      "source": [
        "class GlobalCNN(nn.Module):\n",
        "    def __init__(self):\n",
        "        super(GlobalCNN, self).__init__()\n",
        "        self.conv1 = nn.Conv2d(1, 48, (3, 3), stride=1, padding=1) #concolution2D layer 1为输入通道数，32为输出通道数，32也表示有32个卷积核\n",
        "        self.conv2 = nn.Conv2d(48, 48, (3, 3), stride=1, padding=1)\n",
        "        self.fc1 = nn.Linear(48, 128) #对应第5. flatten了tensor所以输入大小为32 * 12**2\n",
        "        self.fc2 = nn.Linear(128, 2)#对应第6\n",
        "            \n",
        "    def forward(self, x):\n",
        "        # 训练数据x为torch.Size([128, 1, 28, 28])，以下所有128都是一个batch中的data个数,1表示1通道\n",
        "        out = self.conv1(x) #out torch.Size([128, 32, 24, 24]) 28*28通过5*5的卷积核卷积后得到24*24 \n",
        "        out = F.relu(out)  \n",
        "        out = self.conv2(out) #out torch.Size([128, 32, 24, 24]) 28*28通过5*5的卷积核卷积后得到24*24 \n",
        "        out = F.relu(out) \n",
        "\n",
        "        global_max = nn.AdaptiveMaxPool2d((1, 1))\n",
        "        out = global_max(out)\n",
        "\n",
        "        out = out.view(out.shape[0], -1) #torch.Size([128, 4608])    \n",
        "        out = self.fc1(out)#torch.Size([128, 128])        \n",
        "        out = F.relu(out)\n",
        "        out = self.fc2(out) #torch.Size([128, 10])\n",
        "        return out"
      ],
      "execution_count": null,
      "outputs": []
    },
    {
      "cell_type": "code",
      "metadata": {
        "id": "ve2JJWY01idd"
      },
      "source": [
        "# build the model\n",
        "model = GlobalCNN()\n",
        "\n",
        "# define the loss function and the optimiser\n",
        "#loss_function = nn.MSELoss()\n",
        "#loss_function = nn.L1Loss()#{'test_loss': 3.1808531284332275, 'test_acc': 0.8299999833106995}\n",
        "loss_function = nn.SmoothL1Loss()#{'test_loss': 2.9307379722595215, 'test_acc': 0.8399999737739563}\n",
        "optimiser = optim.Adam(model.parameters())\n",
        "\n",
        "device = \"cuda:0\" if torch.cuda.is_available() else \"cpu\"\n",
        "trial = Trial(model, optimiser, loss_function, metrics=['loss', 'accuracy']).to(device)\n",
        "trial.with_generators(trainloader, test_generator=testloader)\n",
        "trial.run(epochs=100)\n",
        "results = trial.evaluate(data_key=torchbearer.TEST_DATA)\n",
        "print(results)"
      ],
      "execution_count": null,
      "outputs": []
    },
    {
      "cell_type": "code",
      "metadata": {
        "id": "avBfP6JT1kpC"
      },
      "source": [
        "class AdvancedCNN(nn.Module):\n",
        "    def __init__(self):\n",
        "        super(AdvancedCNN, self).__init__()\n",
        "        self.conv1 = nn.Conv2d(3, 48, (3, 3), stride=1, padding=1) #concolution2D layer 1为输入通道数，32为输出通道数，32也表示有32个卷积核\n",
        "        self.conv2 = nn.Conv2d(48, 48, (3, 3), stride=1, padding=1)\n",
        "        self.fc1 = nn.Linear(48, 128) #对应第5. flatten了tensor所以输入大小为32 * 12**2\n",
        "        self.fc2 = nn.Linear(128, 2)#对应第6\n",
        "            \n",
        "    def forward(self, x):\n",
        "        idxx = torch.repeat_interleave(torch.arange(-20, 20, dtype=torch.float).unsqueeze(0)/40, repeats=40, dim=0).to(x.device)  \n",
        "        idxy = idxx.clone().t()\n",
        "        idx = torch.stack([idxx, idxy]).unsqueeze(0)\n",
        "        idx = torch.repeat_interleave(idx, repeats=x.shape[0], dim=0)\n",
        "        x = torch.cat([x, idx], dim=1)\n",
        "        out = self.conv1(x) #out torch.Size([128, 32, 24, 24]) 28*28通过5*5的卷积核卷积后得到24*24 \n",
        "        out = F.relu(out)  \n",
        "        out = self.conv2(out) #out torch.Size([128, 32, 24, 24]) 28*28通过5*5的卷积核卷积后得到24*24 \n",
        "        out = F.relu(out) \n",
        "\n",
        "        global_max = nn.AdaptiveMaxPool2d((1, 1))\n",
        "        out = global_max(out)\n",
        "\n",
        "        out = out.view(out.shape[0], -1) #torch.Size([128, 4608])    \n",
        "        out = self.fc1(out)#torch.Size([128, 128])        \n",
        "        out = F.relu(out)\n",
        "        out = self.fc2(out) #torch.Size([128, 10])\n",
        "        return out"
      ],
      "execution_count": null,
      "outputs": []
    },
    {
      "cell_type": "code",
      "metadata": {
        "id": "tYhXphQ2W-T-",
        "colab": {
          "base_uri": "https://localhost:8080/",
          "height": 49,
          "referenced_widgets": [
            "1e591fe59b6a4f4aae1cd672a3a9d6e8",
            "12a18cb59a304d84a82b5d46226ea4ec",
            "6ed475cc54a1432cba25b6d83ea0eb36",
            "17a12f88e4124cadae5cfde3a0f4c576",
            "3360f411fe9641a49d475e2b621473ab",
            "ac7abfb847fc4baa91c9c0147da4a7a6",
            "8aeb8430cba64543a0659690112bf0bf",
            "4ed107ab95d340b9a061cb3f6787b672"
          ]
        },
        "outputId": "0783094e-3ccc-40d2-9a56-4543be48e59e"
      },
      "source": [
        "# build the model\n",
        "model = AdvancedCNN()\n",
        "\n",
        "# define the loss function and the optimiser\n",
        "#loss_function = nn.MSELoss()\n",
        "#loss_function = nn.L1Loss()#{'test_loss': 3.1808531284332275, 'test_acc': 0.8299999833106995}\n",
        "loss_function = nn.SmoothL1Loss()#{'test_loss': 2.9307379722595215, 'test_acc': 0.8399999737739563}\n",
        "optimiser = optim.Adam(model.parameters())\n",
        "\n",
        "device = \"cuda:0\" if torch.cuda.is_available() else \"cpu\"\n",
        "trial = Trial(model, optimiser, loss_function, metrics=['loss', 'accuracy']).to(device)\n",
        "trial.with_generators(trainloader, test_generator=testloader)\n",
        "trial.run(epochs=10)\n",
        "results = trial.evaluate(data_key=torchbearer.TEST_DATA)\n",
        "print(results)"
      ],
      "execution_count": null,
      "outputs": [
        {
          "output_type": "display_data",
          "data": {
            "application/vnd.jupyter.widget-view+json": {
              "model_id": "1e591fe59b6a4f4aae1cd672a3a9d6e8",
              "version_minor": 0,
              "version_major": 2
            },
            "text/plain": [
              "HBox(children=(FloatProgress(value=0.0, description='0/10(t)', max=40.0, style=ProgressStyle(description_width…"
            ]
          },
          "metadata": {
            "tags": []
          }
        }
      ]
    },
    {
      "cell_type": "code",
      "metadata": {
        "id": "kp2kao_SZmfO"
      },
      "source": [
        ""
      ],
      "execution_count": null,
      "outputs": []
    }
  ]
}