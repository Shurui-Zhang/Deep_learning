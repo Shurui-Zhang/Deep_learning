{
  "nbformat": 4,
  "nbformat_minor": 0,
  "metadata": {
    "kernelspec": {
      "display_name": "Python 3",
      "language": "python",
      "name": "python3"
    },
    "language_info": {
      "codemirror_mode": {
        "name": "ipython",
        "version": 3
      },
      "file_extension": ".py",
      "mimetype": "text/x-python",
      "name": "python",
      "nbconvert_exporter": "python",
      "pygments_lexer": "ipython3",
      "version": "3.6.7"
    },
    "colab": {
      "name": "Basic use of tensor",
      "provenance": [],
      "collapsed_sections": [],
      "include_colab_link": true
    }
  },
  "cells": [
    {
      "cell_type": "markdown",
      "metadata": {
        "id": "view-in-github",
        "colab_type": "text"
      },
      "source": [
        "<a href=\"https://colab.research.google.com/github/Shurui-Zhang/Deep_learning/blob/main/Basic_use_of_tensor.ipynb\" target=\"_parent\"><img src=\"https://colab.research.google.com/assets/colab-badge.svg\" alt=\"Open In Colab\"/></a>"
      ]
    },
    {
      "cell_type": "markdown",
      "metadata": {
        "id": "9r_ybX-tBEvY"
      },
      "source": [
        "# Some PyTorch Tensor operation examples\n",
        "\n",
        "Firstly, creation of Tensors:"
      ]
    },
    {
      "cell_type": "code",
      "metadata": {
        "id": "PXtKAsUwAvm2",
        "colab": {
          "base_uri": "https://localhost:8080/"
        },
        "outputId": "3b586f7d-c522-400f-c1f5-4475ec86a464"
      },
      "source": [
        "import torch\n",
        "\n",
        "# create an empty floating point tensor\n",
        "x = torch.empty(1, 3)\n",
        "print(x)\n",
        "\n",
        "# Creation of default floating point tensor (float32) filled with ones\n",
        "y = torch.ones(2,5)\n",
        "\n",
        "# Creation of Integer tensor from existing data; The bad way (because you've _explicitly_ created a CPU-backed Tensor)\n",
        "zbad = torch.IntTensor([[1, 2, 3], [4, 5, 6]])\n",
        "print(zbad)\n",
        "\n",
        "# Creation of Integer tensor from existing data; The good way (this way allows you to specify device=... so it could be backed by the GPU)\n",
        "z = torch.tensor([[1, 2, 3], [4, 5, 6]], dtype=torch.float)\n",
        "print(z)"
      ],
      "execution_count": null,
      "outputs": [
        {
          "output_type": "stream",
          "text": [
            "tensor([[1.0266e-35, 0.0000e+00, 3.3631e-44]])\n",
            "tensor([[1, 2, 3],\n",
            "        [4, 5, 6]], dtype=torch.int32)\n",
            "tensor([[1., 2., 3.],\n",
            "        [4., 5., 6.]])\n"
          ],
          "name": "stdout"
        }
      ]
    },
    {
      "cell_type": "markdown",
      "metadata": {
        "id": "RNOsZ4DvBAUy"
      },
      "source": [
        "Inspecting a tensor:"
      ]
    },
    {
      "cell_type": "code",
      "metadata": {
        "id": "9ZGG-K1TAvm-",
        "colab": {
          "base_uri": "https://localhost:8080/"
        },
        "outputId": "45feedd3-65ae-4087-f7b9-3e73628537be"
      },
      "source": [
        "print(x.size())\n",
        "print(x.shape) #usually used in preference to size()\n",
        "\n",
        "print(z.type()) # the underlying class; this will be dependent on the backing device (so there are different FloatTensor implementations for different devices)\n",
        "print(z.device) # the actual backing device (which isn't just cpu/gpu, but could tell you which gpu...)"
      ],
      "execution_count": null,
      "outputs": [
        {
          "output_type": "stream",
          "text": [
            "torch.Size([1, 3])\n",
            "torch.Size([1, 3])\n",
            "torch.FloatTensor\n",
            "cpu\n"
          ],
          "name": "stdout"
        }
      ]
    },
    {
      "cell_type": "markdown",
      "metadata": {
        "id": "JM9cD8v-GCsK"
      },
      "source": [
        "Setting values:"
      ]
    },
    {
      "cell_type": "code",
      "metadata": {
        "id": "0tJstUUaAvnD",
        "colab": {
          "base_uri": "https://localhost:8080/"
        },
        "outputId": "fbd53adb-1bd1-4dab-cc09-9d9e0347256d"
      },
      "source": [
        "x[0,0] = 0 #setting a specific value\n",
        "print(x)\n",
        "\n",
        "x[0,1:2] = 0 #setting a range of values (the slice operator : works just like in numpy)\n",
        "print(x)\n",
        "\n",
        "# Setting all  the values. Note all in-place operations are suffixed with an underscore\n",
        "x.fill_(1.125)\n",
        "print(x)"
      ],
      "execution_count": null,
      "outputs": [
        {
          "output_type": "stream",
          "text": [
            "tensor([[0.0000e+00, 0.0000e+00, 3.3631e-44]])\n",
            "tensor([[0.0000e+00, 0.0000e+00, 3.3631e-44]])\n",
            "tensor([[1.1250, 1.1250, 1.1250]])\n"
          ],
          "name": "stdout"
        }
      ]
    },
    {
      "cell_type": "markdown",
      "metadata": {
        "id": "NL7uObp2Gqqx"
      },
      "source": [
        "1st-order statistics:"
      ]
    },
    {
      "cell_type": "code",
      "metadata": {
        "id": "vGpUpvcnAvnI",
        "colab": {
          "base_uri": "https://localhost:8080/"
        },
        "outputId": "86f5a9d0-ec50-4506-81cb-fc1d09d0bb85"
      },
      "source": [
        "print(x.mean()) #输出均值\n",
        "print(x.std()) #Returns the standard-deviation of all elements in the input tensor."
      ],
      "execution_count": null,
      "outputs": [
        {
          "output_type": "stream",
          "text": [
            "tensor(1.1250)\n",
            "tensor(0.)\n"
          ],
          "name": "stdout"
        }
      ]
    },
    {
      "cell_type": "markdown",
      "metadata": {
        "id": "ifxQZtMVG64j"
      },
      "source": [
        "Note that the return type of these operations is a 0d Tensor:"
      ]
    },
    {
      "cell_type": "code",
      "metadata": {
        "id": "UC5o5nxOG4V6",
        "colab": {
          "base_uri": "https://localhost:8080/"
        },
        "outputId": "d732a07b-ff1c-4dce-ebb9-f649e3f0ad7c"
      },
      "source": [
        "print(x.sum().shape)\n",
        "x.sum()"
      ],
      "execution_count": null,
      "outputs": [
        {
          "output_type": "stream",
          "text": [
            "torch.Size([])\n"
          ],
          "name": "stdout"
        },
        {
          "output_type": "execute_result",
          "data": {
            "text/plain": [
              "tensor(3.3750)"
            ]
          },
          "metadata": {
            "tags": []
          },
          "execution_count": 6
        }
      ]
    },
    {
      "cell_type": "markdown",
      "metadata": {
        "id": "k7RL0Zj7HLhD"
      },
      "source": [
        "To get this back to a Python number:"
      ]
    },
    {
      "cell_type": "code",
      "metadata": {
        "id": "tPlWse_mAvnP",
        "colab": {
          "base_uri": "https://localhost:8080/"
        },
        "outputId": "2c6b8a61-a00d-49ba-9246-4c5cdeff25ef"
      },
      "source": [
        "## 0d tensor can be converted back to a Python scalar with item()\n",
        "x.sum().item()"
      ],
      "execution_count": null,
      "outputs": [
        {
          "output_type": "execute_result",
          "data": {
            "text/plain": [
              "3.375"
            ]
          },
          "metadata": {
            "tags": []
          },
          "execution_count": 7
        }
      ]
    },
    {
      "cell_type": "markdown",
      "metadata": {
        "id": "WVksTK-MHqtK"
      },
      "source": [
        "You can also go straight to a numpy array:"
      ]
    },
    {
      "cell_type": "code",
      "metadata": {
        "id": "CXQqXugOAvnT",
        "colab": {
          "base_uri": "https://localhost:8080/"
        },
        "outputId": "96cb6d5d-f409-4438-df8d-0c8f97c3f9a6"
      },
      "source": [
        "z.numpy() #将tensor转换为numpy array"
      ],
      "execution_count": null,
      "outputs": [
        {
          "output_type": "execute_result",
          "data": {
            "text/plain": [
              "array([[1., 2., 3.],\n",
              "       [4., 5., 6.]], dtype=float32)"
            ]
          },
          "metadata": {
            "tags": []
          },
          "execution_count": 8
        }
      ]
    },
    {
      "cell_type": "markdown",
      "metadata": {
        "id": "I6SQfF3lIuHB"
      },
      "source": [
        "Note in both cases above, if the Tensor is not already on the CPU, you have to copy it there first otherwise you'll get an error:"
      ]
    },
    {
      "cell_type": "code",
      "metadata": {
        "id": "0KtFLvvUI5I3",
        "colab": {
          "base_uri": "https://localhost:8080/"
        },
        "outputId": "e7b33900-82bf-403e-f17e-a5d1625f11f5"
      },
      "source": [
        "print(z.cpu().numpy()) #GPU tensor不能直接转为numpy数组，必须先转到CPU tensor\n",
        "print(z[0,0].item())"
      ],
      "execution_count": null,
      "outputs": [
        {
          "output_type": "stream",
          "text": [
            "[[1. 2. 3.]\n",
            " [4. 5. 6.]]\n",
            "1.0\n"
          ],
          "name": "stdout"
        }
      ]
    },
    {
      "cell_type": "markdown",
      "metadata": {
        "id": "7xgCRzGNJzxQ"
      },
      "source": [
        "Element-wise operations are easy:"
      ]
    },
    {
      "cell_type": "code",
      "metadata": {
        "id": "NmKXTNZsAvnw",
        "colab": {
          "base_uri": "https://localhost:8080/"
        },
        "outputId": "5c16f99b-d74f-49c2-c620-29fbe019c9ac"
      },
      "source": [
        "x = torch.tensor([ 10., 20., 30.])\n",
        "y = torch.tensor([ 11., 21., 31.])\n",
        "\n",
        "print(x + y) #Tensor-Tensor addition (element-wise addition)\n",
        "print(x - y) #Tensor-Tensor subtraction (element-wise subtraction)\n",
        "print(x * y) #Hadamard product of two tensors\n",
        "print(x / y) #Hadamard division of two tensors\n",
        "print(x**2) #raising to a power\n",
        "print(torch.sin(x)) #applying sin element-wise\n",
        "print(x == 10) #element-wise boolean tests\n",
        "print(x <= 20) #element-wise boolean tests\n",
        "print((x <= 20) & (x==10)) #element-wise logical `and`"
      ],
      "execution_count": null,
      "outputs": [
        {
          "output_type": "stream",
          "text": [
            "tensor([21., 41., 61.])\n",
            "tensor([-1., -1., -1.])\n",
            "tensor([110., 420., 930.])\n",
            "tensor([0.9091, 0.9524, 0.9677])\n",
            "tensor([100., 400., 900.])\n",
            "tensor([-0.5440,  0.9129, -0.9880])\n",
            "tensor([ True, False, False])\n",
            "tensor([ True,  True, False])\n",
            "tensor([ True, False, False])\n"
          ],
          "name": "stdout"
        }
      ]
    },
    {
      "cell_type": "markdown",
      "metadata": {
        "id": "K8t2E5piL0Wu"
      },
      "source": [
        "Matrix multiplication"
      ]
    },
    {
      "cell_type": "code",
      "metadata": {
        "id": "Y-ES1RckAvnz",
        "colab": {
          "base_uri": "https://localhost:8080/"
        },
        "outputId": "232fe6a8-98fb-4f07-8fdc-23ce1e021058"
      },
      "source": [
        "x = torch.tensor([ 10., 20., 30.]) #x is a 1d tensor\n",
        "m = torch.tensor([[ 0., 0., 1. ],[ 0., 2., 0. ],[ 3., 0., 0. ]]) #m is a 2d tensor\n",
        "\n",
        "try:\n",
        "  print(torch.mm(m,x)) #torch.mm performs matrix-matrix multiplication; this will fail because .mm doesn't support broadcasting and the inputs have differing tensor order\n",
        "except Exception as e:\n",
        "  print(\"Error: \" + str(e))\n",
        "print(torch.matmul(m,x)) #torch.matmul performs matrix-matrix multiplication with broadcasting; it will automatically convert x to a 2d tensor so the multiplication can be performed\n",
        "print(m @ x) #ampersand is convienent short-hand notation for matmul\n"
      ],
      "execution_count": null,
      "outputs": [
        {
          "output_type": "stream",
          "text": [
            "Error: mat2 must be a matrix\n",
            "tensor([30., 40., 30.])\n",
            "tensor([30., 40., 30.])\n",
            "torch.Size([3, 3])\n"
          ],
          "name": "stdout"
        }
      ]
    },
    {
      "cell_type": "markdown",
      "metadata": {
        "id": "bhSwen88NnvG"
      },
      "source": [
        "Unsqueezing tensors - this is something you'll probably see a lot; unsqueezing  adds another dimension:  "
      ]
    },
    {
      "cell_type": "code",
      "metadata": {
        "id": "iX5TaPmeAvn2",
        "colab": {
          "base_uri": "https://localhost:8080/"
        },
        "outputId": "d483316b-cbb1-4e81-da2c-04e0435e8540"
      },
      "source": [
        "x = torch.tensor([ 10., 20., 30.])\n",
        "print(x.shape)\n",
        "x.unsqueeze_(-1) #in-place unsqueeze, adding the new dimension in the last position (so we create a _column_ vector) unsqueeze增加一个维度(正1与负1代表了在哪里添加这个维度)\n",
        "print(x.shape)\n",
        "\n",
        "print(x.t().shape) #note .t() transposes a tensor\n",
        "\n",
        "\n",
        "print(torch.mm(m,x)) #  the previous .mm that failed because of mismatched sizes will now work"
      ],
      "execution_count": null,
      "outputs": [
        {
          "output_type": "stream",
          "text": [
            "torch.Size([3])\n",
            "torch.Size([3, 1])\n",
            "tensor([[10.],\n",
            "        [20.],\n",
            "        [30.]])\n",
            "torch.Size([1, 3])\n",
            "tensor([[10., 20., 30.]])\n",
            "tensor([[30.],\n",
            "        [40.],\n",
            "        [30.]])\n"
          ],
          "name": "stdout"
        }
      ]
    },
    {
      "cell_type": "markdown",
      "metadata": {
        "id": "5KLIXGL8NsoH"
      },
      "source": [
        "Sometimes we'll need to reshape tensors:"
      ]
    },
    {
      "cell_type": "code",
      "metadata": {
        "id": "9r-PHr5CAvn5",
        "colab": {
          "base_uri": "https://localhost:8080/"
        },
        "outputId": "ae55188d-7e36-4256-cd53-d74182e84922"
      },
      "source": [
        "x2 = x.reshape(3) # back to where we started!\n",
        "print(x2)"
      ],
      "execution_count": null,
      "outputs": [
        {
          "output_type": "stream",
          "text": [
            "tensor([10., 20., 30.])\n"
          ],
          "name": "stdout"
        }
      ]
    },
    {
      "cell_type": "code",
      "metadata": {
        "id": "nrbtLkJOXndQ"
      },
      "source": [
        ""
      ],
      "execution_count": null,
      "outputs": []
    }
  ]
}