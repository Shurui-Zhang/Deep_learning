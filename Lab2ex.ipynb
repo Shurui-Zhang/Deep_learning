{
  "nbformat": 4,
  "nbformat_minor": 0,
  "metadata": {
    "colab": {
      "name": "Lab2ex.ipynb",
      "provenance": [],
      "collapsed_sections": [],
      "authorship_tag": "ABX9TyPWz99x/xjG9bASB+9LiMu5",
      "include_colab_link": true
    },
    "kernelspec": {
      "name": "python3",
      "display_name": "Python 3"
    },
    "language_info": {
      "name": "python"
    }
  },
  "cells": [
    {
      "cell_type": "markdown",
      "metadata": {
        "id": "view-in-github",
        "colab_type": "text"
      },
      "source": [
        "<a href=\"https://colab.research.google.com/github/Shurui-Zhang/Deep_learning/blob/main/Lab2ex.ipynb\" target=\"_parent\"><img src=\"https://colab.research.google.com/assets/colab-badge.svg\" alt=\"Open In Colab\"/></a>"
      ]
    },
    {
      "cell_type": "code",
      "metadata": {
        "id": "yQn5rIsOuAJV"
      },
      "source": [
        "from typing import Tuple\n",
        "import torch\n",
        "import random\n",
        "import numpy as np\n",
        "import matplotlib.pyplot as plt\n",
        "import pandas as pd\n",
        "\n",
        "def gd_factorise_ad(A:torch.Tensor, rank:int, num_epochs =1000, lr =0.01) -> Tuple[torch.Tensor, torch. Tensor]:\n",
        "  m, n = A.shape\n",
        "\n",
        "  U = torch.tensor(torch.normal(0, 1, size=(m, rank)), requires_grad=True)\n",
        "  V = torch.tensor(torch.normal(0, 1, size=(n, rank)), requires_grad=True)\n",
        "\n",
        "  for epoch in range(num_epochs):\n",
        "    U.grad = None\n",
        "    V.grad = None\n",
        "\n",
        "    z = torch.nn.functional.mse_loss(U@V.t(), A, reduction='sum')\n",
        "    z.backward()\n",
        "\n",
        "    U.data = U - U.grad * lr\n",
        "    V.data = V - V.grad * lr\n",
        "  return U, V\n"
      ],
      "execution_count": null,
      "outputs": []
    },
    {
      "cell_type": "code",
      "metadata": {
        "colab": {
          "base_uri": "https://localhost:8080/"
        },
        "id": "9V2u_kwkKbxv",
        "outputId": "ac79bfdf-e278-4d8d-caa4-c26934c4375b"
      },
      "source": [
        "a = torch.tensor([[0.3374, 0.6005, 0.1735], [3.3359, 0.0492, 1.8374], [2.9407, 0.5301, 2.2620]], dtype=torch.float)\n",
        "print(np.linalg.matrix_rank(a))\n",
        "U, V = gd_factorise_ad(a, 2)\n",
        "print(\"U = \", U)\n",
        "print(\"V = \", V)\n",
        "print(U @ V.t())\n",
        "print(\"error =\", torch.nn.functional.mse_loss(U@V.t(), a, reduction='sum'))"
      ],
      "execution_count": null,
      "outputs": [
        {
          "output_type": "stream",
          "text": [
            "3\n",
            "U =  tensor([[ 0.4835,  0.3864],\n",
            "        [-0.8797,  1.1379],\n",
            "        [-0.1880,  1.4209]], requires_grad=True)\n",
            "V =  tensor([[-1.1252,  1.9890],\n",
            "        [ 0.6699,  0.5098],\n",
            "        [-0.3972,  1.4272]], requires_grad=True)\n",
            "tensor([[ 0.2244,  0.5208,  0.3594],\n",
            "        [ 3.2532, -0.0091,  1.9735],\n",
            "        [ 3.0376,  0.5985,  2.1025]], grad_fn=<MmBackward>)\n",
            "error = tensor(0.1219, grad_fn=<MseLossBackward>)\n"
          ],
          "name": "stdout"
        },
        {
          "output_type": "stream",
          "text": [
            "/usr/local/lib/python3.7/dist-packages/ipykernel_launcher.py:11: UserWarning: To copy construct from a tensor, it is recommended to use sourceTensor.clone().detach() or sourceTensor.clone().detach().requires_grad_(True), rather than torch.tensor(sourceTensor).\n",
            "  # This is added back by InteractiveShellApp.init_path()\n",
            "/usr/local/lib/python3.7/dist-packages/ipykernel_launcher.py:12: UserWarning: To copy construct from a tensor, it is recommended to use sourceTensor.clone().detach() or sourceTensor.clone().detach().requires_grad_(True), rather than torch.tensor(sourceTensor).\n",
            "  if sys.path[0] == '':\n"
          ],
          "name": "stderr"
        }
      ]
    },
    {
      "cell_type": "code",
      "metadata": {
        "id": "EuLxGp7yRoUi"
      },
      "source": [
        "import pandas as pd\n",
        "df = pd.read_csv('https://archive.ics.uci.edu/ml/machine-learning-databases/iris/iris.data', header=None)  \n",
        "data = torch.tensor(df.iloc[:, [0,1,2,3]].values)\n",
        "data = data - data.mean(dim = 0)"
      ],
      "execution_count": null,
      "outputs": []
    },
    {
      "cell_type": "code",
      "metadata": {
        "colab": {
          "base_uri": "https://localhost:8080/",
          "height": 418
        },
        "id": "OcsqPPisYhkZ",
        "outputId": "13bf815a-4331-4686-e768-fcd09935d00d"
      },
      "source": [
        "U, V = gd_factorise_ad(data.float(), 2)\n",
        "#print(\"U = \", U)\n",
        "#print(\"V = \", V)\n",
        "print(\"the reconstruction loss of using gd_factorise_ad:\", torch.nn.functional.mse_loss(U@V.t(), data, reduction='sum'))\n",
        "\n",
        "data_svd = torch.svd(data.float())\n",
        "data_svd[1][2] = 0\n",
        "data_svd[1][3] = 0\n",
        "print(\"the reconstruction loss of using truncated SVD:\", torch.nn.functional.mse_loss(data_svd[0] @ torch.diag(data_svd[1]) @ data_svd[2].t(), data, reduction='sum'))\n",
        "\n",
        "U1 = U.detach().numpy()\n",
        "U2 = data_svd[0]\n",
        "fig, ax = plt.subplots(nrows=1, ncols=2, figsize=(12,4))\n",
        "ax[1].scatter(U1[:, 0], U1[:, 1], c='c', s=4)\n",
        "ax[0].scatter(U2[:, 0], U2[:, 1], c='r', s=4)\n",
        "plt.tight_layout()\n",
        "plt.savefig('svd-U^.png')"
      ],
      "execution_count": null,
      "outputs": [
        {
          "output_type": "stream",
          "text": [
            "/usr/local/lib/python3.7/dist-packages/ipykernel_launcher.py:11: UserWarning: To copy construct from a tensor, it is recommended to use sourceTensor.clone().detach() or sourceTensor.clone().detach().requires_grad_(True), rather than torch.tensor(sourceTensor).\n",
            "  # This is added back by InteractiveShellApp.init_path()\n",
            "/usr/local/lib/python3.7/dist-packages/ipykernel_launcher.py:12: UserWarning: To copy construct from a tensor, it is recommended to use sourceTensor.clone().detach() or sourceTensor.clone().detach().requires_grad_(True), rather than torch.tensor(sourceTensor).\n",
            "  if sys.path[0] == '':\n"
          ],
          "name": "stderr"
        },
        {
          "output_type": "stream",
          "text": [
            "the reconstruction loss of using gd_factorise_ad: tensor(15.2289, dtype=torch.float64, grad_fn=<MseLossBackward>)\n",
            "the reconstruction loss of using truncated SVD: tensor(15.2288, dtype=torch.float64)\n"
          ],
          "name": "stdout"
        },
        {
          "output_type": "display_data",
          "data": {
            "image/png": "[encoded data removed]",
            "text/plain": [
              "<Figure size 864x288 with 2 Axes>"
            ]
          },
          "metadata": {
            "tags": [],
            "needs_background": "light"
          }
        }
      ]
    },
    {
      "cell_type": "code",
      "metadata": {
        "id": "hGXw6rcubbMP",
        "colab": {
          "base_uri": "https://localhost:8080/"
        },
        "outputId": "1480ca9d-4471-404d-9ce5-672af2655798"
      },
      "source": [
        "import pandas as pd\n",
        "df = pd.read_csv('https://archive.ics.uci.edu/ml/machine-learning-databases/iris/iris.data', header=None) \n",
        "df = df.sample(frac = 1)#shuffle\n",
        "\n",
        "#add lable indices column\n",
        "mapping = {k: v for v, k in enumerate(df[4].unique())}\n",
        "df[5] = df[4].map(mapping)\n",
        "\n",
        "#normalise data\n",
        "alldata = torch.tensor(df.iloc[:, [0,1,2,3]].values, dtype=torch.float) \n",
        "\n",
        "#create datasets\n",
        "targets_tr = torch.tensor(df.iloc[:100, 5].values, dtype = torch.long)\n",
        "targets_va = torch.tensor(df.iloc[100:, 5].values, dtype = torch.long)\n",
        "\n",
        "data_tr = alldata[:100]\n",
        "data_va = alldata[100:]\n",
        "\n",
        "print(targets_tr.shape)"
      ],
      "execution_count": null,
      "outputs": [
        {
          "output_type": "stream",
          "text": [
            "torch.Size([100])\n"
          ],
          "name": "stdout"
        }
      ]
    },
    {
      "cell_type": "code",
      "metadata": {
        "id": "8c1qP8OffZc1"
      },
      "source": [
        "def mlp(A:torch.Tensor, num_epochs =100, lr =0.01) -> Tuple[torch.Tensor, torch. Tensor]:\n",
        "  w1 = torch.tensor(torch.normal(0, 1, size=(4, 12)), requires_grad=True)\n",
        "  w2 = torch.tensor(torch.normal(0, 1, size=(12, 3)), requires_grad=True)\n",
        "  b1 = torch.tensor(0.0, requires_grad=True)\n",
        "  b2 = torch.tensor(0.0, requires_grad=True)\n",
        "\n",
        "  for epoch in range(num_epochs):\n",
        "    w1.grad = None\n",
        "    w2.grad = None\n",
        "    b1.grad = None\n",
        "    b2.grad = None\n",
        "\n",
        "    logits = torch.relu(A @ w1 + b1) @ w2 + b2\n",
        "    error = torch.nn.functional.cross_entropy(logits, targets_tr)\n",
        "    error.backward()\n",
        "\n",
        "    w1.data = w1 - w1.grad * lr\n",
        "    w2.data = w2 - w2.grad * lr\n",
        "    b1.data = b1 - b1.grad * lr\n",
        "    b2.data = b2 - b2.grad * lr\n",
        "  return w1, w2, b1, b2"
      ],
      "execution_count": null,
      "outputs": []
    },
    {
      "cell_type": "code",
      "metadata": {
        "id": "dYa8L7GpFTEQ",
        "colab": {
          "base_uri": "https://localhost:8080/"
        },
        "outputId": "8eb4057d-35e4-4b76-b4e4-bc57c30ef50e"
      },
      "source": [
        "for i in range(10):\n",
        "  w1, w2, b1, b2 = mlp(data_tr)\n",
        "  predict = torch.relu(data_tr @ w1 + b1) @ w2 + b2\n",
        "  print(\"the cross-entropy loss on the training set:\", torch.nn.functional.cross_entropy(predict, targets_tr))\n",
        "  predict_va = torch.relu(data_va @ w1 + b1) @ w2 + b2\n",
        "  print(\"the cross-entropy loss on the validation set:\",torch.nn.functional.cross_entropy(predict_va, targets_va))\n",
        "  print(\"next epoch\")\n",
        "\n"
      ],
      "execution_count": null,
      "outputs": [
        {
          "output_type": "stream",
          "text": [
            "/usr/local/lib/python3.7/dist-packages/ipykernel_launcher.py:2: UserWarning: To copy construct from a tensor, it is recommended to use sourceTensor.clone().detach() or sourceTensor.clone().detach().requires_grad_(True), rather than torch.tensor(sourceTensor).\n",
            "  \n",
            "/usr/local/lib/python3.7/dist-packages/ipykernel_launcher.py:3: UserWarning: To copy construct from a tensor, it is recommended to use sourceTensor.clone().detach() or sourceTensor.clone().detach().requires_grad_(True), rather than torch.tensor(sourceTensor).\n",
            "  This is separate from the ipykernel package so we can avoid doing imports until\n"
          ],
          "name": "stderr"
        },
        {
          "output_type": "stream",
          "text": [
            "the cross-entropy loss on the training set: tensor(0.2450, grad_fn=<NllLossBackward>)\n",
            "the cross-entropy loss on the validation set: tensor(0.2354, grad_fn=<NllLossBackward>)\n",
            "next epoch\n",
            "the cross-entropy loss on the training set: tensor(0.6323, grad_fn=<NllLossBackward>)\n",
            "the cross-entropy loss on the validation set: tensor(0.5867, grad_fn=<NllLossBackward>)\n",
            "next epoch\n",
            "the cross-entropy loss on the training set: tensor(0.2528, grad_fn=<NllLossBackward>)\n",
            "the cross-entropy loss on the validation set: tensor(0.2276, grad_fn=<NllLossBackward>)\n",
            "next epoch\n",
            "the cross-entropy loss on the training set: tensor(0.8831, grad_fn=<NllLossBackward>)\n",
            "the cross-entropy loss on the validation set: tensor(1.1003, grad_fn=<NllLossBackward>)\n",
            "next epoch\n",
            "the cross-entropy loss on the training set: tensor(0.3050, grad_fn=<NllLossBackward>)\n",
            "the cross-entropy loss on the validation set: tensor(0.2761, grad_fn=<NllLossBackward>)\n",
            "next epoch\n",
            "the cross-entropy loss on the training set: tensor(0.1432, grad_fn=<NllLossBackward>)\n",
            "the cross-entropy loss on the validation set: tensor(0.1462, grad_fn=<NllLossBackward>)\n",
            "next epoch\n",
            "the cross-entropy loss on the training set: tensor(0.4725, grad_fn=<NllLossBackward>)\n",
            "the cross-entropy loss on the validation set: tensor(0.4642, grad_fn=<NllLossBackward>)\n",
            "next epoch\n",
            "the cross-entropy loss on the training set: tensor(0.4553, grad_fn=<NllLossBackward>)\n",
            "the cross-entropy loss on the validation set: tensor(0.4674, grad_fn=<NllLossBackward>)\n",
            "next epoch\n",
            "the cross-entropy loss on the training set: tensor(0.4871, grad_fn=<NllLossBackward>)\n",
            "the cross-entropy loss on the validation set: tensor(0.5365, grad_fn=<NllLossBackward>)\n",
            "next epoch\n",
            "the cross-entropy loss on the training set: tensor(0.5000, grad_fn=<NllLossBackward>)\n",
            "the cross-entropy loss on the validation set: tensor(0.4465, grad_fn=<NllLossBackward>)\n",
            "next epoch\n"
          ],
          "name": "stdout"
        }
      ]
    },
    {
      "cell_type": "code",
      "metadata": {
        "id": "EZRQleUJbtAe"
      },
      "source": [
        ""
      ],
      "execution_count": null,
      "outputs": []
    }
  ]
}